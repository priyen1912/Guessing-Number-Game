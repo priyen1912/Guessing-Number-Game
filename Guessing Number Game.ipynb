{
 "cells": [
  {
   "cell_type": "code",
   "execution_count": 4,
   "metadata": {},
   "outputs": [],
   "source": [
    "from tkinter import *\n",
    "import random\n",
    "\n",
    "attempts = 10\n",
    "answer = random.randint(1,99)\n",
    "\n",
    "def check_the_answer() :\n",
    "    \n",
    "    global attempts\n",
    "    global text\n",
    "    \n",
    "    attempts -= 1\n",
    "    \n",
    "    guess=int(entry.get())\n",
    "    \n",
    "    if answer == guess:\n",
    "        text.set(\"You win\")\n",
    "        btn_check.pack_forget()\n",
    "        \n",
    "    elif attempts == 0:\n",
    "        text.set(\"Your attempts are out\")\n",
    "        btn_check.pack_forget()\n",
    "    elif guess <  answer :\n",
    "        text.set(\" Incorrect, You have \" + str(attempts) + \" attempts remaining - Go Higher \")\n",
    "    elif guess > answer :\n",
    "        text.set(\" Incorrect, You have \" + str(attempts) + \" attempts remaining - Go Lower \")\n",
    "        \n",
    "    return\n",
    "\n",
    "root=Tk()\n",
    "\n",
    "root.title(\" Guessing the number \")\n",
    "root.geometry(\"500x150\")\n",
    "\n",
    "label=Label(root,text=\" Gusse the number \")\n",
    "label.pack()\n",
    "\n",
    "entry=Entry(root,width=40,borderwidth=4)\n",
    "entry.pack()\n",
    "\n",
    "btn_check=Button(root,text= \" Check \" ,command=check_the_answer)\n",
    "btn_check.pack()\n",
    "\n",
    "btn_quit=Button(root,text= \" Quit \" ,command=root.destroy)\n",
    "btn_quit.pack()\n",
    "\n",
    "text=StringVar()\n",
    "text.set( \" You have 10 attenpts \" )\n",
    "\n",
    "gusse_attempt=Label(root,textvariable=text)\n",
    "gusse_attempt.pack()\n",
    "\n",
    "root.mainloop()"
   ]
  },
  {
   "cell_type": "code",
   "execution_count": null,
   "metadata": {},
   "outputs": [],
   "source": []
  }
 ],
 "metadata": {
  "kernelspec": {
   "display_name": "Python 3",
   "language": "python",
   "name": "python3"
  },
  "language_info": {
   "codemirror_mode": {
    "name": "ipython",
    "version": 3
   },
   "file_extension": ".py",
   "mimetype": "text/x-python",
   "name": "python",
   "nbconvert_exporter": "python",
   "pygments_lexer": "ipython3",
   "version": "3.8.1"
  }
 },
 "nbformat": 4,
 "nbformat_minor": 4
}
